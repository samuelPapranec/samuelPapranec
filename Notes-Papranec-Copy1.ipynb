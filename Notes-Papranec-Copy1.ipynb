{
 "cells": [
  {
   "cell_type": "code",
   "execution_count": null,
   "id": "401c3232",
   "metadata": {},
   "outputs": [],
   "source": [
    "import sys\n",
    "import platform\n",
    "\n",
    "z = (sys.platform)\n",
    "y = (\"\\n\"+platform.system())\n",
    "x = (platform.architecture())\n",
    "o = (platform.machine())\n",
    "print(z)"
   ]
  },
  {
   "cell_type": "code",
   "execution_count": null,
   "id": "300bfb7c",
   "metadata": {},
   "outputs": [],
   "source": []
  },
  {
   "cell_type": "markdown",
   "id": "c02ae80a",
   "metadata": {
    "slideshow": {
     "slide_type": "slide"
    }
   },
   "source": [
    "### THIS FUNCTION WILL NOT HEhttp\n",
    "###://localhost:8888/notebooks/Notes-Papranec.ipynb#Modul-Da\n",
    "  ###      tetime--LP YOU FIND THE FLAG --LT #####"
   ]
  },
  {
   "cell_type": "markdown",
   "id": "a78e8503",
   "metadata": {},
   "source": [
    "# Datetime module\n",
    "   2022-10-20 <br>\n",
    " \n",
    "   \n",
    "   \n",
    "   "
   ]
  },
  {
   "cell_type": "markdown",
   "id": "773c9f1a",
   "metadata": {},
   "source": [
    "#### Code 2: Classic Import\n",
    " • unified format of the mask in database world is : \"YYYY-MM-DD\" \"HH:MM:SS.MS\", <br>\n",
    " • module datetime has same name as method datetime."
   ]
  },
  {
   "cell_type": "code",
   "execution_count": 2,
   "id": "2164df3b",
   "metadata": {
    "scrolled": true
   },
   "outputs": [
    {
     "metadata": {},
     "name": "stdout",
     "output_type": "stream",
     "prompt_number": 9,
     "text": [
      "2022-10-20 23:16:52.107142\n",
      "2022-10-20\n",
      "23:16:52.107142\n",
      "Thu Oct 20 23:16:52 2022\n"
     ]
    }
   ],
   "source": [
    "import datetime\n",
    "print(datetime.datetime.now())\n",
    "print(datetime.datetime.now().date())\n",
    "print(datetime.datetime.now().time())\n",
    "print(datetime.datetime.now().ctime())"
   ]
  },
  {
   "cell_type": "markdown",
   "id": "156cafde",
   "metadata": {},
   "source": [
    "#### Code 3: Conditional Import\n",
    "• same output as in code 2."
   ]
  },
  {
   "cell_type": "code",
   "execution_count": 3,
   "id": "0d20427d",
   "metadata": {},
   "outputs": [
    {
     "name": "stdout",
     "output_type": "stream",
     "text": [
      "2022-10-20 23:16:52.121137\n",
      "2022-10-20\n",
      "23:16:52.122136\n",
      "Thu Oct 20 23:16:52 2022\n"
     ]
    }
   ],
   "source": [
    "from datetime import datetime\n",
    "print(datetime.now())\n",
    "print(datetime.now().date())\n",
    "print(datetime.now().time())\n",
    "print(datetime.now().ctime())\n",
    "print(datetime.now().year)\n",
    "print(datetime.now().hour)"
   ]
  },
  {
   "cell_type": "markdown",
   "id": "f5e53ac2",
   "metadata": {},
   "source": [
    "#### Code 4(wrong): Parsing of specific information  (built-in variable month)\n",
    "• *TypeError: 'int' object is not callable* &nbsp;means ***month()*** is not a callable method(function), but an object(variable). It say not use function ***month()***, instead use object ***month***."
   ]
  },
  {
   "cell_type": "code",
   "execution_count": 4,
   "id": "7ee26ebb",
   "metadata": {
    "scrolled": true
   },
   "outputs": [
    {
     "ename": "TypeError",
     "evalue": "'int' object is not callable",
     "output_type": "error",
     "traceback": [
      "\u001b[1;31m---------------------------------------------------------------------------\u001b[0m",
      "\u001b[1;31mTypeError\u001b[0m                                 Traceback (most recent call last)",
      "Cell \u001b[1;32mIn [4], line 1\u001b[0m\n\u001b[1;32m----> 1\u001b[0m \u001b[38;5;28mprint\u001b[39m(\u001b[43mdatetime\u001b[49m\u001b[38;5;241;43m.\u001b[39;49m\u001b[43mnow\u001b[49m\u001b[43m(\u001b[49m\u001b[43m)\u001b[49m\u001b[38;5;241;43m.\u001b[39;49m\u001b[43mmonth\u001b[49m\u001b[43m(\u001b[49m\u001b[43m)\u001b[49m)\n",
      "\u001b[1;31mTypeError\u001b[0m: 'int' object is not callable"
     ]
    }
   ],
   "source": [
    "print(datetime.now().month())"
   ]
  },
  {
   "cell_type": "markdown",
   "id": "48a83a1c",
   "metadata": {},
   "source": [
    "#### Code 5 (right): Parsing Of Specific Information (built-in variable month)"
   ]
  },
  {
   "cell_type": "code",
   "execution_count": null,
   "id": "ba5c132f",
   "metadata": {},
   "outputs": [],
   "source": [
    "print(datetime.now().month)"
   ]
  },
  {
   "cell_type": "markdown",
   "id": "5356de6b",
   "metadata": {},
   "source": [
    "#### Code 6 (wrong): Parsing of Specific Information (built-in method of datetime.datetime)\n",
    "• *<built-in method today of type object at 0x00007FFA540BA530>* &nbsp;means that ***today*** is a method(function)."
   ]
  },
  {
   "cell_type": "code",
   "execution_count": 6,
   "id": "feb27af8",
   "metadata": {},
   "outputs": [
    {
     "name": "stdout",
     "output_type": "stream",
     "text": [
      "<built-in method today of type object at 0x00007FFA540BA530>\n",
      "<built-in method weekday of datetime.datetime object at 0x0000022218838C30>\n"
     ]
    }
   ],
   "source": [
    "print(datetime.now().today)\n",
    "print(datetime.now().weekday)"
   ]
  },
  {
   "cell_type": "markdown",
   "id": "bd63a680",
   "metadata": {},
   "source": [
    "#### Code 7 (right) : Parsing of Specific Information (built-in method of datetime.datetime)\n",
    "• indexed from 0."
   ]
  },
  {
   "cell_type": "code",
   "execution_count": 8,
   "id": "87545800",
   "metadata": {
    "scrolled": false
   },
   "outputs": [
    {
     "name": "stdout",
     "output_type": "stream",
     "text": [
      "3\n"
     ]
    }
   ],
   "source": [
    "print(datetime.now().weekday())"
   ]
  },
  {
   "cell_type": "markdown",
   "id": "e9b2046f",
   "metadata": {},
   "source": [
    "#### Code 8: String Format Time\n",
    "\n",
    "• %d = formatting day (case sensitive)<br>\n",
    "• %m = formatting month (case sensitive)<br>\n",
    "• %y || %g = \"YY\"<br>\n",
    "• %Y = \"YYYY\"<br>\n",
    "• %A = formatting weekday string<br>\n",
    "• %j = day of year<br>\n",
    "• %V = weeknumber of year<br>\n",
    "• %T = \"HH:MM:SS\"<br>\n",
    "• %p = \"AM/PM\"<br>\n"
   ]
  },
  {
   "cell_type": "code",
   "execution_count": 30,
   "id": "a22865ec",
   "metadata": {
    "scrolled": true
   },
   "outputs": [
    {
     "name": "stdout",
     "output_type": "stream",
     "text": [
      "\n",
      "SK format date:  21.10.22, 21.10.2022, 22\n",
      "T:  Friday\n",
      "military format date:  00:08:46 AM\n",
      "weeknumber: 42 daynumber: 294\n"
     ]
    }
   ],
   "source": [
    "print(\"\\nSK format date: \", datetime.now().strftime(\"%d.%m.%y, %d.%m.%Y, %y\"))\n",
    "print(\"T: \", datetime.now().strftime(\"%A\"))\n",
    "print(\"military format date: \", datetime.now().strftime(\"%T %p\"))\n",
    "print(\"weeknumber:\", datetime.now().strftime(\"%V\"), \"daynumber:\", datetime.now().strftime(\"%j\"))\n"
   ]
  },
  {
   "cell_type": "markdown",
   "id": "0536da55",
   "metadata": {},
   "source": [
    "#### Code 9: Importing Only Part of Module + as alias"
   ]
  },
  {
   "cell_type": "code",
   "execution_count": 35,
   "id": "6fbe7ed6",
   "metadata": {},
   "outputs": [
    {
     "name": "stdout",
     "output_type": "stream",
     "text": [
      "00:16:55\n"
     ]
    }
   ],
   "source": [
    "from time import strftime as strft\n",
    "print(strft(\"%T\"))\n",
    "\n",
    "import calendar as cal\n"
   ]
  },
  {
   "cell_type": "code",
   "execution_count": null,
   "id": "3fc0a0f8",
   "metadata": {},
   "outputs": [],
   "source": []
  },
  {
   "cell_type": "code",
   "execution_count": null,
   "id": "ddd9bf52",
   "metadata": {},
   "outputs": [],
   "source": []
  },
  {
   "cell_type": "code",
   "execution_count": null,
   "id": "53ae7088",
   "metadata": {},
   "outputs": [],
   "source": []
  },
  {
   "cell_type": "code",
   "execution_count": null,
   "id": "477f561d",
   "metadata": {},
   "outputs": [],
   "source": []
  },
  {
   "cell_type": "code",
   "execution_count": null,
   "id": "3f01ba25",
   "metadata": {},
   "outputs": [],
   "source": []
  },
  {
   "cell_type": "code",
   "execution_count": null,
   "id": "242f25a4",
   "metadata": {},
   "outputs": [],
   "source": []
  },
  {
   "cell_type": "code",
   "execution_count": null,
   "id": "26ecba26",
   "metadata": {},
   "outputs": [],
   "source": []
  },
  {
   "cell_type": "code",
   "execution_count": null,
   "id": "dba10768",
   "metadata": {},
   "outputs": [],
   "source": []
  },
  {
   "cell_type": "code",
   "execution_count": null,
   "id": "1ca89a56",
   "metadata": {},
   "outputs": [],
   "source": []
  },
  {
   "cell_type": "code",
   "execution_count": null,
   "id": "84cbf7e5",
   "metadata": {},
   "outputs": [],
   "source": []
  },
  {
   "cell_type": "code",
   "execution_count": null,
   "id": "60e284df",
   "metadata": {},
   "outputs": [],
   "source": []
  },
  {
   "cell_type": "code",
   "execution_count": null,
   "id": "3bb6a474",
   "metadata": {},
   "outputs": [],
   "source": []
  },
  {
   "cell_type": "code",
   "execution_count": null,
   "id": "90370c0b",
   "metadata": {},
   "outputs": [],
   "source": []
  },
  {
   "cell_type": "code",
   "execution_count": null,
   "id": "092be634",
   "metadata": {},
   "outputs": [],
   "source": []
  }
 ],
 "metadata": {
  "celltoolbar": "Slideshow",
  "kernelspec": {
   "display_name": "Python 3 (ipykernel)",
   "language": "python",
   "name": "python3"
  },
  "language_info": {
   "codemirror_mode": {
    "name": "ipython",
    "version": 3
   },
   "file_extension": ".py",
   "mimetype": "text/x-python",
   "name": "python",
   "nbconvert_exporter": "python",
   "pygments_lexer": "ipython3",
   "version": "3.8.7"
  }
 },
 "nbformat": 4,
 "nbformat_minor": 5
}
