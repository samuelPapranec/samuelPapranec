{
 "cells": [
  {
   "cell_type": "markdown",
   "id": "cc799dc3",
   "metadata": {},
   "source": [
    "# SAV - 1/? (22-09-19)\n",
    "   2022-10-20 &nbsp;&nbsp;&nbsp;[Samuel Papranec](https://www.github.com/samuelPapranec)\n",
    " \n",
    "   \n",
    "   \n",
    "   "
   ]
  },
  {
   "cell_type": "markdown",
   "id": "f2236162",
   "metadata": {},
   "source": [
    "#### Code 1: Python Outputs Only First(??) Line"
   ]
  },
  {
   "cell_type": "code",
   "execution_count": 21,
   "id": "401c3232",
   "metadata": {
    "scrolled": true
   },
   "outputs": [
    {
     "data": {
      "text/plain": [
       "('win32', ('64bit', 'WindowsPE'), 'Windows', 'AMD64')"
      ]
     },
     "execution_count": 21,
     "metadata": {},
     "output_type": "execute_result"
    }
   ],
   "source": [
    "import sys\n",
    "import platform\n",
    "\n",
    "sys.platform,platform.architecture(),platform.system(),platform.machine() "
   ]
  },
  {
   "cell_type": "markdown",
   "id": "773c9f1a",
   "metadata": {},
   "source": [
    "#### Code 2: Classic Import - datetime Module\n",
    " • (1A) unified format of the mask in database world and information systems is : \"YYYY-MM-DD\" \"HH:MM:SS.MS\", <br>\n",
    " • module datetime has same name as method datetime."
   ]
  },
  {
   "cell_type": "code",
   "execution_count": 2,
   "id": "2164df3b",
   "metadata": {
    "scrolled": true
   },
   "outputs": [
    {
     "name": "stdout",
     "output_type": "stream",
     "text": [
      "2022-10-24 23:07:00.851434\n",
      "2022-10-24\n",
      "23:07:00.852412\n",
      "Mon Oct 24 23:07:00 2022\n"
     ]
    }
   ],
   "source": [
    "import datetime\n",
    "print(datetime.datetime.now())\n",
    "print(datetime.datetime.now().date())\n",
    "print(datetime.datetime.now().time())\n",
    "print(datetime.datetime.now().ctime())"
   ]
  },
  {
   "cell_type": "markdown",
   "id": "156cafde",
   "metadata": {},
   "source": [
    "#### Code 3: Conditional Import\n",
    "• same output as in code 2."
   ]
  },
  {
   "cell_type": "code",
   "execution_count": 3,
   "id": "0d20427d",
   "metadata": {
    "scrolled": true
   },
   "outputs": [
    {
     "name": "stdout",
     "output_type": "stream",
     "text": [
      "2022-10-24 23:07:00.867411\n",
      "2022-10-24\n",
      "23:07:00.867411\n",
      "Mon Oct 24 23:07:00 2022\n",
      "2022\n",
      "23\n"
     ]
    }
   ],
   "source": [
    "from datetime import datetime\n",
    "print(datetime.now())\n",
    "print(datetime.now().date())\n",
    "print(datetime.now().time())\n",
    "print(datetime.now().ctime())\n",
    "print(datetime.now().year)\n",
    "print(datetime.now().hour)"
   ]
  },
  {
   "cell_type": "markdown",
   "id": "f5e53ac2",
   "metadata": {},
   "source": [
    "#### Code 4(wrong): Parsing of specific information  (built-in variable month)\n",
    "• *TypeError: 'int' object is not callable* &nbsp;means ***month()*** is not a callable method(function), but an object(variable). It say not use function ***month()***, instead use object ***month***."
   ]
  },
  {
   "cell_type": "code",
   "execution_count": 4,
   "id": "7ee26ebb",
   "metadata": {
    "scrolled": false
   },
   "outputs": [],
   "source": [
    "import datetime\n",
    "#print(datetime.datetime.now().month()) --not printing the wrong code"
   ]
  },
  {
   "cell_type": "markdown",
   "id": "48a83a1c",
   "metadata": {},
   "source": [
    "#### Code 5 (right): Parsing Of Specific Information (built-in variable month)"
   ]
  },
  {
   "cell_type": "code",
   "execution_count": 5,
   "id": "ba5c132f",
   "metadata": {
    "scrolled": true
   },
   "outputs": [
    {
     "name": "stdout",
     "output_type": "stream",
     "text": [
      "10\n"
     ]
    }
   ],
   "source": [
    "import datetime\n",
    "print(datetime.datetime.now().month)"
   ]
  },
  {
   "cell_type": "markdown",
   "id": "5356de6b",
   "metadata": {},
   "source": [
    "#### Code 6 (wrong): Parsing of Specific Information (built-in method of datetime.datetime)\n",
    "• *<built-in method today of type object at 0x00007FFA540BA530>* &nbsp;means that ***today*** is a method(function)."
   ]
  },
  {
   "cell_type": "code",
   "execution_count": 6,
   "id": "feb27af8",
   "metadata": {},
   "outputs": [],
   "source": [
    "import datetime\n",
    "#print(datetime.now().today)"
   ]
  },
  {
   "cell_type": "markdown",
   "id": "bd63a680",
   "metadata": {},
   "source": [
    "#### Code 7 (right) : Parsing of Specific Information (built-in method of datetime.datetime)\n",
    "• indexed from 0."
   ]
  },
  {
   "cell_type": "code",
   "execution_count": 7,
   "id": "87545800",
   "metadata": {
    "scrolled": false
   },
   "outputs": [
    {
     "name": "stdout",
     "output_type": "stream",
     "text": [
      "0\n"
     ]
    }
   ],
   "source": [
    "import datetime\n",
    "print(datetime.datetime.now().weekday())"
   ]
  },
  {
   "cell_type": "markdown",
   "id": "e9b2046f",
   "metadata": {},
   "source": [
    "#### Code 8: String Format Time\n",
    "\n",
    "• %d = formatting day (case sensitive)<br>\n",
    "• %m = formatting month (case sensitive)<br>\n",
    "• %y || %g = \"YY\"<br>\n",
    "• %Y = \"YYYY\"<br>\n",
    "• %A = formatting weekday string<br>\n",
    "• %j = day of year<br>\n",
    "• %V = weeknumber of year<br>\n",
    "• %T = \"HH:MM:SS\"<br>\n",
    "• %p = \"AM/PM\"<br>\n"
   ]
  },
  {
   "cell_type": "code",
   "execution_count": 8,
   "id": "a22865ec",
   "metadata": {
    "scrolled": true
   },
   "outputs": [
    {
     "name": "stdout",
     "output_type": "stream",
     "text": [
      "\n",
      "SK format date:  24.10.22, 24.10.2022, 22\n",
      "T:  Monday\n",
      "military format date:  23:07:00 PM\n",
      "weeknumber: 43 daynumber: 297\n"
     ]
    }
   ],
   "source": [
    "from datetime import datetime\n",
    "\n",
    "print(\"\\nSK format date: \", datetime.now().strftime(\"%d.%m.%y, %d.%m.%Y, %y\"))\n",
    "print(\"T: \", datetime.now().strftime(\"%A\"))\n",
    "print(\"military format date: \", datetime.now().strftime(\"%T %p\"))\n",
    "print(\"weeknumber:\", datetime.now().strftime(\"%V\"), \"daynumber:\", datetime.now().strftime(\"%j\"))\n"
   ]
  },
  {
   "cell_type": "markdown",
   "id": "0536da55",
   "metadata": {},
   "source": [
    "#### Code 9: Importing Only Part of Module + as alias"
   ]
  },
  {
   "cell_type": "code",
   "execution_count": 9,
   "id": "6fbe7ed6",
   "metadata": {
    "scrolled": true
   },
   "outputs": [
    {
     "name": "stdout",
     "output_type": "stream",
     "text": [
      "23:07:00\n"
     ]
    }
   ],
   "source": [
    "from time import strftime as strft\n",
    "print(strft(\"%T\"))"
   ]
  },
  {
   "cell_type": "markdown",
   "id": "814c2459",
   "metadata": {},
   "source": [
    "#### Code 10: Using ***print(cal.day_name[])***&nbsp; and &nbsp;***print(\"{cal.day_name[]}\")***"
   ]
  },
  {
   "cell_type": "code",
   "execution_count": 10,
   "id": "ddd9bf52",
   "metadata": {},
   "outputs": [
    {
     "name": "stdout",
     "output_type": "stream",
     "text": [
      "0\n",
      "Monday\n",
      "Narodil som sa: Monday\n"
     ]
    }
   ],
   "source": [
    "import calendar as cal\n",
    "rok = 2000\n",
    "mesiac = 5\n",
    "den = 22\n",
    "# (1A)\n",
    "kalendar = cal.weekday(rok, mesiac, den)\n",
    "\n",
    "print(kalendar)\n",
    "print(cal.day_name[kalendar])\n",
    "print(f\"Narodil som sa: {cal.day_name[kalendar]}\")"
   ]
  },
  {
   "cell_type": "markdown",
   "id": "57079237",
   "metadata": {},
   "source": [
    "#### Code 11: "
   ]
  },
  {
   "cell_type": "code",
   "execution_count": 11,
   "id": "478dbf1c",
   "metadata": {},
   "outputs": [
    {
     "name": "stdout",
     "output_type": "stream",
     "text": [
      "                                   -1\n",
      "\n",
      "      January                   February                   March\n",
      "Mo Tu We Th Fr Sa Su      Mo Tu We Th Fr Sa Su      Mo Tu We Th Fr Sa Su\n",
      "             1  2  3       1  2  3  4  5  6  7       1  2  3  4  5  6  7\n",
      " 4  5  6  7  8  9 10       8  9 10 11 12 13 14       8  9 10 11 12 13 14\n",
      "11 12 13 14 15 16 17      15 16 17 18 19 20 21      15 16 17 18 19 20 21\n",
      "18 19 20 21 22 23 24      22 23 24 25 26 27 28      22 23 24 25 26 27 28\n",
      "25 26 27 28 29 30 31                                29 30 31\n",
      "\n",
      "       April                      May                       June\n",
      "Mo Tu We Th Fr Sa Su      Mo Tu We Th Fr Sa Su      Mo Tu We Th Fr Sa Su\n",
      "          1  2  3  4                      1  2          1  2  3  4  5  6\n",
      " 5  6  7  8  9 10 11       3  4  5  6  7  8  9       7  8  9 10 11 12 13\n",
      "12 13 14 15 16 17 18      10 11 12 13 14 15 16      14 15 16 17 18 19 20\n",
      "19 20 21 22 23 24 25      17 18 19 20 21 22 23      21 22 23 24 25 26 27\n",
      "26 27 28 29 30            24 25 26 27 28 29 30      28 29 30\n",
      "                          31\n",
      "\n",
      "        July                     August                  September\n",
      "Mo Tu We Th Fr Sa Su      Mo Tu We Th Fr Sa Su      Mo Tu We Th Fr Sa Su\n",
      "          1  2  3  4                         1             1  2  3  4  5\n",
      " 5  6  7  8  9 10 11       2  3  4  5  6  7  8       6  7  8  9 10 11 12\n",
      "12 13 14 15 16 17 18       9 10 11 12 13 14 15      13 14 15 16 17 18 19\n",
      "19 20 21 22 23 24 25      16 17 18 19 20 21 22      20 21 22 23 24 25 26\n",
      "26 27 28 29 30 31         23 24 25 26 27 28 29      27 28 29 30\n",
      "                          30 31\n",
      "\n",
      "      October                   November                  December\n",
      "Mo Tu We Th Fr Sa Su      Mo Tu We Th Fr Sa Su      Mo Tu We Th Fr Sa Su\n",
      "             1  2  3       1  2  3  4  5  6  7             1  2  3  4  5\n",
      " 4  5  6  7  8  9 10       8  9 10 11 12 13 14       6  7  8  9 10 11 12\n",
      "11 12 13 14 15 16 17      15 16 17 18 19 20 21      13 14 15 16 17 18 19\n",
      "18 19 20 21 22 23 24      22 23 24 25 26 27 28      20 21 22 23 24 25 26\n",
      "25 26 27 28 29 30 31      29 30                     27 28 29 30 31\n",
      "\n"
     ]
    }
   ],
   "source": [
    "print(cal.calendar(-1))"
   ]
  },
  {
   "cell_type": "markdown",
   "id": "b762803b",
   "metadata": {},
   "source": [
    "#### Code 12:List of All Installed Packages"
   ]
  },
  {
   "cell_type": "code",
   "execution_count": 12,
   "id": "3f01ba25",
   "metadata": {
    "scrolled": true
   },
   "outputs": [
    {
     "name": "stdout",
     "output_type": "stream",
     "text": [
      "Package              Version\n",
      "-------------------- -----------\n",
      "anaconda             0.0.1.1\n",
      "anyio                3.6.1\n",
      "argon2-cffi          21.3.0\n",
      "argon2-cffi-bindings 21.2.0\n",
      "asttokens            2.0.8\n",
      "attrs                22.1.0\n",
      "backcall             0.2.0\n",
      "beautifulsoup4       4.11.1\n",
      "bleach               5.0.1\n",
      "cffi                 1.15.1\n",
      "colorama             0.4.5\n",
      "cowsay               5.0\n",
      "debugpy              1.6.3\n",
      "decorator            5.1.1\n",
      "defusedxml           0.7.1\n",
      "entrypoints          0.4\n",
      "executing            1.1.1\n",
      "fastjsonschema       2.16.2\n",
      "idna                 3.4\n",
      "importlib-metadata   5.0.0\n",
      "importlib-resources  5.10.0\n",
      "ipykernel            6.16.0\n",
      "ipython              8.5.0\n",
      "ipython-genutils     0.2.0\n",
      "ipywidgets           8.0.2\n",
      "jedi                 0.18.1\n",
      "Jinja2               3.1.2\n",
      "jsonschema           4.16.0\n",
      "jupyter              1.0.0\n",
      "jupyter-client       7.4.2\n",
      "jupyter-console      6.4.4\n",
      "jupyter-core         4.11.1\n",
      "jupyter-server       1.21.0\n",
      "jupyterlab-pygments  0.2.2\n",
      "jupyterlab-widgets   3.0.3\n",
      "MarkupSafe           2.1.1\n",
      "matplotlib-inline    0.1.6\n",
      "mistune              2.0.4\n",
      "nbclassic            0.4.5\n",
      "nbclient             0.7.0\n",
      "nbconvert            7.2.1\n",
      "nbformat             5.7.0\n",
      "nest-asyncio         1.5.6\n",
      "notebook             6.5.1\n",
      "notebook-shim        0.1.0\n",
      "packaging            21.3\n",
      "pandocfilters        1.5.0\n",
      "parso                0.8.3\n",
      "pickleshare          0.7.5\n",
      "pip                  20.2.3\n",
      "pkgutil-resolve-name 1.3.10\n",
      "prettytable          3.4.1\n",
      "prometheus-client    0.15.0\n",
      "prompt-toolkit       3.0.31\n",
      "psutil               5.9.2\n",
      "pure-eval            0.2.2\n",
      "pycparser            2.21\n",
      "Pygments             2.13.0\n",
      "pyparsing            3.0.9\n",
      "pyrsistent           0.18.1\n",
      "python-dateutil      2.8.2\n",
      "pywin32              304\n",
      "pywinpty             2.0.8\n",
      "pyzmq                24.0.1\n",
      "qtconsole            5.3.2\n",
      "QtPy                 2.2.1\n",
      "Send2Trash           1.8.0\n",
      "setuptools           49.2.1\n",
      "six                  1.16.0\n",
      "sniffio              1.3.0\n",
      "soupsieve            2.3.2.post1\n",
      "stack-data           0.5.1\n",
      "terminado            0.16.0\n",
      "tinycss2             1.1.1\n",
      "tornado              6.2\n",
      "traitlets            5.4.0\n",
      "wcwidth              0.2.5\n",
      "webencodings         0.5.1\n",
      "websocket-client     1.4.1\n",
      "widgetsnbextension   4.0.3\n",
      "zipp                 3.9.0\n"
     ]
    },
    {
     "name": "stderr",
     "output_type": "stream",
     "text": [
      "WARNING: You are using pip version 20.2.3; however, version 22.3 is available.\n",
      "You should consider upgrading via the 'c:\\users\\pc\\appdata\\local\\programs\\python\\python38\\python.exe -m pip install --upgrade pip' command.\n"
     ]
    }
   ],
   "source": [
    "!pip list\n"
   ]
  },
  {
   "cell_type": "markdown",
   "id": "ede2ac38",
   "metadata": {},
   "source": [
    "#### Code 13: Requirement Already Satisfied\n",
    "• If module needs dependencies they would be installed."
   ]
  },
  {
   "cell_type": "code",
   "execution_count": 13,
   "id": "242f25a4",
   "metadata": {
    "scrolled": true
   },
   "outputs": [
    {
     "name": "stdout",
     "output_type": "stream",
     "text": [
      "Requirement already satisfied: cowsay in c:\\users\\pc\\appdata\\local\\programs\\python\\python38\\lib\\site-packages (5.0)\n"
     ]
    },
    {
     "name": "stderr",
     "output_type": "stream",
     "text": [
      "WARNING: You are using pip version 20.2.3; however, version 22.3 is available.\n",
      "You should consider upgrading via the 'c:\\users\\pc\\appdata\\local\\programs\\python\\python38\\python.exe -m pip install --upgrade pip' command.\n"
     ]
    }
   ],
   "source": [
    "!pip install cowsay"
   ]
  },
  {
   "cell_type": "markdown",
   "id": "b9063415",
   "metadata": {},
   "source": [
    "#### Code 14: Importing Downloaded Module *\"Cowsay\"* and Using It "
   ]
  },
  {
   "cell_type": "code",
   "execution_count": 14,
   "id": "dba10768",
   "metadata": {},
   "outputs": [
    {
     "name": "stdout",
     "output_type": "stream",
     "text": [
      "Name: cowsay\n",
      "Version: 5.0\n",
      "Summary: The famous cowsay for GNU/Linux is now available for python\n",
      "Home-page: https://github.com/VaasuDevanS/cowsay-python\n",
      "Author: Vaasudevan Srinivasan\n",
      "Author-email: vaasuceg.96@gmail.com\n",
      "License: GNU-GPL\n",
      "Location: c:\\users\\pc\\appdata\\local\\programs\\python\\python38\\lib\\site-packages\n",
      "Requires: \n",
      "Required-by: \n",
      "<class 'module'>\n"
     ]
    },
    {
     "data": {
      "text/plain": [
       "<function cowsay.main.func(text, char_lines=\"\\n  \\\\\\n   \\\\\\n    \\\\\\n     \\\\\\n                           / \\\\\\\\  //\\\\\\\\\\n            |\\\\\\\\___/|      /   \\\\\\\\//  \\\\\\\\\\\\\\\\\\n            /0  0  \\\\\\\\__  /    //  | \\\\\\\\ \\\\\\\\\\n           /     /  \\\\\\\\/_/    //   |  \\\\\\\\  \\\\\\\\\\n           \\\\@_^_\\\\@'/   \\\\\\\\/_   //    |   \\\\\\\\   \\\\\\\\\\n           //_^_/     \\\\\\\\/_ //     |    \\\\\\\\    \\\\\\\\\\n        ( //) |        \\\\\\\\///      |     \\\\\\\\     \\\\\\\\\\n      ( / /) _|_ /   )  //       |      \\\\\\\\     _\\\\\\\\\\n    ( // /) '/,_ _ _/  ( ; -.    |    _ _\\\\\\\\.-~        .-~~~^-.\\n  (( / / )) ,-{        _      `-.|.-~-.           .~         `.\\n (( // / ))  '/\\\\\\\\      /                 ~-. _ .-~      .-~^-.  \\\\\\\\\\n (( /// ))      `.   {            }                   /      \\\\\\\\  \\\\\\\\\\n  (( / ))     .----~-.\\\\\\\\        \\\\\\\\-'                 .~         \\\\\\\\  `. \\\\\\\\^-.\\n             ///.----..>        \\\\\\\\             _ -~             `.  ^-`  ^-_\\n               ///-._ _ _ _ _ _ _}^ - - - - ~                     ~-- ,.-~\\n                                                                  /.-~\\n\")>"
      ]
     },
     "execution_count": 14,
     "metadata": {},
     "output_type": "execute_result"
    }
   ],
   "source": [
    "import cowsay\n",
    "!pip show cowsay\n",
    "print(type(cowsay))\n",
    "cowsay.dragon"
   ]
  },
  {
   "cell_type": "markdown",
   "id": "7962cdc1",
   "metadata": {},
   "source": [
    "#### Code 15: Module Prettytable\n",
    "• ( ) is a function <br>\n",
    "• [ ] is a list (:zoznam)"
   ]
  },
  {
   "cell_type": "code",
   "execution_count": 15,
   "id": "9472e12e",
   "metadata": {
    "scrolled": true
   },
   "outputs": [
    {
     "name": "stdout",
     "output_type": "stream",
     "text": [
      "Requirement already satisfied: prettytable in c:\\users\\pc\\appdata\\local\\programs\\python\\python38\\lib\\site-packages (3.4.1)\n",
      "Requirement already satisfied: wcwidth in c:\\users\\pc\\appdata\\local\\programs\\python\\python38\\lib\\site-packages (from prettytable) (0.2.5)\n",
      "+--------+------------+--------+---------+\n",
      "|  item  | durability | weight | reagent |\n",
      "+--------+------------+--------+---------+\n",
      "| liquid |     4      |  3.51  |   999   |\n",
      "| stone  |     2      |  3.51  |    0    |\n",
      "+--------+------------+--------+---------+\n"
     ]
    },
    {
     "name": "stderr",
     "output_type": "stream",
     "text": [
      "WARNING: You are using pip version 20.2.3; however, version 22.3 is available.\n",
      "You should consider upgrading via the 'c:\\users\\pc\\appdata\\local\\programs\\python\\python38\\python.exe -m pip install --upgrade pip' command.\n"
     ]
    }
   ],
   "source": [
    "!pip install prettytable\n",
    "from prettytable import PrettyTable as p\n",
    "t =p([\"item\",\"durability\",\"weight\",\"reagent\"])\n",
    "t.add_row([\"liquid\",\"4\",\"3.51\",\"999\",])\n",
    "t.add_row([\"stone\",\"2\",\"3.51\",\"0\",])\n",
    "print(t)"
   ]
  },
  {
   "cell_type": "markdown",
   "id": "13c38770",
   "metadata": {},
   "source": [
    "#### Code 16:  Playing Hacker\n",
    "• variable **hostname** is used to store the result of function **gethostname()**"
   ]
  },
  {
   "cell_type": "code",
   "execution_count": 29,
   "id": "60e284df",
   "metadata": {
    "scrolled": true
   },
   "outputs": [
    {
     "name": "stdout",
     "output_type": "stream",
     "text": [
      "ja: DESKTOP-LIQEH54\n",
      "IP_rucne: 192.168.56.1\n",
      "IP_fn: 192.168.56.1\n",
      "IP_fn: 192.168.56.1\n"
     ]
    }
   ],
   "source": [
    "import socket\n",
    "\n",
    "IP_adresa0 = socket.gethostbyname(\"DESKTOP-LIQEH54\")\n",
    "#or0 \n",
    "IP_adresa1 = socket.gethostbyname(socket.gethostname())\n",
    "#or1\n",
    "\n",
    "hostname = socket.gethostname()\n",
    "\n",
    "IP_adresa2 = socket.gethostbyname(hostname)\n",
    "\n",
    "print(f\"ja: {hostname}\")\n",
    "print(f\"IP_rucne: {IP_adresa0}\")\n",
    "print(f\"IP_fn: {IP_adresa1}\")\n",
    "print(f\"IP_fn: {IP_adresa2}\")"
   ]
  },
  {
   "cell_type": "markdown",
   "id": "c37970cd",
   "metadata": {},
   "source": [
    "#### Code 17: Using isidentifier\n",
    "• string method **`<str>`.isidentifier** returns true if string can be valid *identifier*(name of the object variable).<br>\n",
    "• strings have many built-in methods(ctrl-tab) <br>\n",
    "• every method in python that starts with **.is**... returns boolean type. "
   ]
  },
  {
   "cell_type": "code",
   "execution_count": 30,
   "id": "d8945f50",
   "metadata": {},
   "outputs": [
    {
     "name": "stdout",
     "output_type": "stream",
     "text": [
      "-1 True\n",
      "0. True\n",
      "1. True\n",
      "2. True\n",
      "3. False\n",
      "4. False\n",
      "5. False\n",
      "6. False\n",
      "7. True\n",
      "8. False\n",
      "9. True\n",
      "10. True\n"
     ]
    }
   ],
   "source": [
    "#same criteria for mostly all programming-scripting languages\n",
    "minusone = \"minusone\".isidentifier()\n",
    "zero = \"Zero\"\n",
    "printable = zero.isidentifier()\n",
    "\n",
    "print(\"-1\", minusone)\n",
    "print(\"0.\", printable)\n",
    "print(\"1.\", \"Deep_Freeze\".isidentifier())\n",
    "print(\"2.\", \"DeepFreeze\".isidentifier())\n",
    "print(\"3.\", \"007\".isidentifier())\n",
    "print(\"4.\", \"11AT\".isidentifier())\n",
    "print(\"5.\", \"KZ WG\".isidentifier())\n",
    "print(\"6.\", \"$KZWG\".isidentifier())\n",
    "print(\"7.\", \"_KZWG\".isidentifier())\n",
    "print(\"8.\", \"KZ-WG\".isidentifier())\n",
    "print(\"9.\", \"_0\".isidentifier())\n",
    "print(\"10.\", \"_0_p\".isidentifier())"
   ]
  }
 ],
 "metadata": {
  "kernelspec": {
   "display_name": "Python 3 (ipykernel)",
   "language": "python",
   "name": "python3"
  },
  "language_info": {
   "codemirror_mode": {
    "name": "ipython",
    "version": 3
   },
   "file_extension": ".py",
   "mimetype": "text/x-python",
   "name": "python",
   "nbconvert_exporter": "python",
   "pygments_lexer": "ipython3",
   "version": "3.8.7"
  }
 },
 "nbformat": 4,
 "nbformat_minor": 5
}
